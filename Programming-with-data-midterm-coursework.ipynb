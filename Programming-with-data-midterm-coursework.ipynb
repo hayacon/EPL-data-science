{
 "cells": [
  {
   "cell_type": "markdown",
   "metadata": {},
   "source": [
    "# Premier League Football : analysis on overall team performance over 27 seasons, which team performs better than others. "
   ]
  },
  {
   "cell_type": "markdown",
   "metadata": {},
   "source": [
    "England Premier League (EPL) football was foundede 1992 and it is the one of the top football league in the world. Since EPL was established, this league has always　attaching attention of football fans from all over the world. Over the history of the EPL, are there any club that has always perform better than other team? Perhaps, are there certain match always had the same result? Number is one way to look at the history of one the top football lewague in the World.\n",
    "\n",
    "This project use a sources of every match results data from each year from 1993/1994 season to 2019/2020 season. \n",
    "\n",
    "Analysis of this project will focus on basic stats : wins, number of goals, and result of each match. The details of what is being a target of analysis are within this notebook. Basic stast are still capable to show interesting statistic data of EPL over the years of league history. \n",
    "\n",
    "The final output of analysis should be easy to understand by wide range of audeince, therefore it must be visualized in a form of graph or table and should not require some special knowledge of mathmatics.    \n",
    "\n",
    "Due to size of each data bra bra bra......\n",
    "\n",
    "any weaknesses or potential caveats in your approach"
   ]
  },
  {
   "cell_type": "markdown",
   "metadata": {},
   "source": [
    "# Premier League match result"
   ]
  },
  {
   "cell_type": "markdown",
   "metadata": {},
   "source": [
    "I was originally looking for a one set of data that contains all the result from 1992 to present. However, I could only find set of data that files are separtatred into each seasons. Also, there are some gap between variety of data for each match from long ago and one from recent seasons. \n",
    "\n",
    "Data from a long ago contains only full time match result, however, recent data has more stats about each match"
   ]
  }
 ],
 "metadata": {
  "kernelspec": {
   "display_name": "Python 3",
   "language": "python",
   "name": "python3"
  },
  "language_info": {
   "codemirror_mode": {
    "name": "ipython",
    "version": 3
   },
   "file_extension": ".py",
   "mimetype": "text/x-python",
   "name": "python",
   "nbconvert_exporter": "python",
   "pygments_lexer": "ipython3",
   "version": "3.7.2"
  }
 },
 "nbformat": 4,
 "nbformat_minor": 4
}
