{
 "cells": [
  {
   "cell_type": "markdown",
   "metadata": {},
   "source": [
    "# Premier League Football : analysis on overall team performance over 27 seasons. "
   ]
  },
  {
   "cell_type": "markdown",
   "metadata": {},
   "source": [
    "-Introduction/contex-\n",
    "Over the past decade, the way of analyzing a performance of sports players or teams has shifted to more on numbers. \n",
    "It became more com\n",
    "nu,bers numbers numbers ....etc etc etc \n",
    "\n",
    "Analysis on this project will focus on performance of each team rather than performance of individual players. The analysis will be from simple stats to some complex stats. For instance, number of goals, wins and average number of free kicks per match. The details of what is being a target of analysis are within this notebook. Basic stats are still capable to show the performance and possibiliy a some charactristsics of each team over the past 27 seasons.  \n",
    "The final output of analysis should be easy to understand by wide range of audeince, therefore it must be visualized in a form of graph or table and should not require some special knowledge of mathmatics. HOwever, it will require some basic knowledge on football.    \n",
    "\n",
    "The source data for this project is all match results from 1993/1994 season to present. Format of source data is csv and single csv file contains a match result of one season. \n",
    "\n",
    "any weaknesses or potential caveats in your approach"
   ]
  },
  {
   "cell_type": "markdown",
   "metadata": {},
   "source": [
    "## Premier League match result data"
   ]
  },
  {
   "cell_type": "markdown",
   "metadata": {},
   "source": [
    "I was originally looking for a one data that contains all the result from 1993/1994 season to 2019/2020 season. However, I could only find indivisual CSV files for each seasons. At the begginning, I was going to download eachcsv files manually, but it is much effcient to scrape them from the web page. I scrrape all data set from the following web page http://www.football-data.co.uk/englandm.php using BeautifulSoup. Initially, each csv files are scraped individually, then they will be combine to two different csv files.\n",
    "\n",
    "I notice that data after 2000/2001 season has more stats compare to seasons before 2000/2001 season. Data before 2000/2001 season contains only a match results where seasons after 2000/2001 contains more details stats of each match such as number of corner kicks, free kicks, and etc."
   ]
  },
  {
   "cell_type": "code",
   "execution_count": 27,
   "metadata": {},
   "outputs": [],
   "source": [
    "from bs4 import BeautifulSoup\n",
    "import requests\n",
    "import re \n",
    "\n",
    "headers = {'User-Agent':'Mozilla/5.0 (Macintosh; Intel Mac OS X 10_11_2) AppleWebKit/601.3.9 (KHTML, like Gecko) Version/9.0.2 Safari/601.3.9'}"
   ]
  },
  {
   "cell_type": "code",
   "execution_count": 28,
   "metadata": {},
   "outputs": [],
   "source": [
    "# Webpage that I scrape CSV files from.\n",
    "url = \"http://www.football-data.co.uk/englandm.php\"\n",
    "all_files = [] #this list contains names of each csv files\n",
    "# download all csv files from the web page \n",
    "with requests.Session() as req:\n",
    "    r = req.get(url)\n",
    "    soup = BeautifulSoup(r.content, 'html.parser')\n",
    "    for link in soup.find_all(href=re.compile('E0.csv')):\n",
    "        file = link.get('href')\n",
    "        new_link = \"http://www.football-data.co.uk/\" + file\n",
    "        r = req.get(new_link)\n",
    "        name = file.rsplit(\"/\", 2)[-2]\n",
    "        name = name + \".csv\"\n",
    "        all_files.append(name)\n",
    "        with open(name, 'wb') as f:\n",
    "            f.write(r.content)\n",
    "all_files.reverse() "
   ]
  },
  {
   "cell_type": "markdown",
   "metadata": {},
   "source": [
    "all_files is a list that contains name of each csv files, and this list start with 2020/2021 season. But it makes more sence to have them in past to present order. "
   ]
  },
  {
   "cell_type": "code",
   "execution_count": 29,
   "metadata": {},
   "outputs": [],
   "source": [
    "file_group1 = []\n",
    "file_group2 = []\n",
    "for i in range(len(all_files)):\n",
    "    if i < 7:\n",
    "        file_group1.append(all_files[i])\n",
    "    else:\n",
    "        file_group2.append(all_files[i])\n",
    "\n",
    "file_group3 = [\"0708.csv\", \"0809.csv\", \"0910.csv\", \"1011.csv\", \"1112.csv\", \"1213.csv\"]\n",
    "file_group4 = [\"1920.csv\", '2021.csv']\n",
    "\n",
    "for item in file_group3:\n",
    "    file_group2.remove(item)\n",
    "\n",
    "for item in file_group4:\n",
    "    file_group2.remove(item)"
   ]
  },
  {
   "cell_type": "markdown",
   "metadata": {},
   "source": [
    "I grouped files based on similarity of data that are contain in each files.  As I mnetioned, first group contains less data about each match than second group of files. By separating them into two, I can do more analysis on second group since there are only limited possibility of analysis on first group. Additionally, I spread group2 to group3, group4, and other in group2 because they contain slightly different data and was causing erro. \n"
   ]
  },
  {
   "cell_type": "markdown",
   "metadata": {},
   "source": [
    "The following code will manipulate data by modify and combine csv files in order to carry out analysis. "
   ]
  },
  {
   "cell_type": "code",
   "execution_count": 30,
   "metadata": {},
   "outputs": [],
   "source": [
    "import os, glob\n",
    "import pandas as pd\n",
    "import numpy as np"
   ]
  },
  {
   "cell_type": "code",
   "execution_count": 31,
   "metadata": {},
   "outputs": [],
   "source": [
    "# remove all files that are not going to be a part of this analysis\n",
    "for file in file_group1:\n",
    "    os.remove(file)\n",
    "    all_files.remove(file)\n",
    "\n",
    "\n",
    "def modify_file(file, header):\n",
    "    df = pd.read_csv(file, names=header, encoding='latin1')\n",
    "    df = df[['Div','Date','HomeTeam','AwayTeam','FTHG','FTAG','FTR','HTHG','HTAG','HTR','Referee','HS','AS','HST','AST','HF', 'AF','HC','AC','HY','AY','HR','AR']]\n",
    "    df.to_csv(file, index=False, header=False)\n",
    "\n",
    "df = pd.read_csv(\"1415.csv\")\n",
    "header = list(df.columns.values)\n",
    "\n",
    "for file in file_group2:\n",
    "    modify_file(file, header)\n",
    "\n",
    "df = pd.read_csv(\"1213.csv\")\n",
    "header = list(df.columns.values)\n",
    "\n",
    "for file in file_group3:\n",
    "    modify_file(file, header)\n",
    "\n",
    "df = pd.read_csv(\"1920.csv\")\n",
    "header = list(df.columns.values)\n",
    "\n",
    "for file in file_group4:\n",
    "    modify_file(file, header)"
   ]
  },
  {
   "cell_type": "markdown",
   "metadata": {},
   "source": [
    "I notice that files in group 1 contains unncessary blank rows at the end of each file, and function modify_file( ) remove those blank rows. Merging those files without modifying them will cause huge gaps within the merged file and it could cause some errorswhile data annalysis. \\\n",
    "For other files, I modify them by dropping unnecessary clounms. I modify bit differently depends on kind of data that they contain and to all files (except group 1) to have mostly the same set of data (note that some of them has some extras data). \n"
   ]
  },
  {
   "cell_type": "code",
   "execution_count": 32,
   "metadata": {},
   "outputs": [],
   "source": [
    "# # merge group 2 into one dataframe df_0021\n",
    "df_group2 = (pd.read_csv(f) for f in file_group2)\n",
    "df_group3 = (pd.read_csv(f) for f in file_group3)\n",
    "df_group4 = (pd.read_csv(f) for f in file_group4)\n",
    "\n",
    "df_group2_merged = pd.concat(df_group2, sort=False)\n",
    "df_group3_merged = pd.concat(df_group3, sort=False)\n",
    "df_group4_merged = pd.concat(df_group4, sort=False)\n",
    "\n",
    "df_group0021 = [df_group2_merged, df_group3_merged,df_group4_merged]\n",
    "\n",
    "df_group0021_merged = pd.concat(df_group0021, sort=False)\n",
    "# # modify this data by dropping unnecessary rows\n",
    "df_0021 = df_group0021_merged[df_group0021_merged.Div != 'Div']\n",
    "df_0021 = df_0021[df_0021.HomeTeam.notnull()]"
   ]
  },
  {
   "cell_type": "markdown",
   "metadata": {},
   "source": [
    "I combine all files in group 1 into one dataframe df_9300, and rest in dataframe df_0021."
   ]
  },
  {
   "cell_type": "markdown",
   "metadata": {},
   "source": [
    "## Total Number of Wins of Each Club"
   ]
  },
  {
   "cell_type": "code",
   "execution_count": 33,
   "metadata": {},
   "outputs": [
    {
     "name": "stdout",
     "output_type": "stream",
     "text": [
      "['Arsenal', 'Aston Villa', 'Birmingham', 'Blackburn', 'Blackpool', 'Bolton', 'Bournemouth', 'Bradford', 'Brighton', 'Burnley', 'Cardiff', 'Charlton', 'Chelsea', 'Coventry', 'Crystal Palace', 'Derby', 'Everton', 'Fulham', 'Huddersfield', 'Hull', 'Ipswich', 'Leeds', 'Leicester', 'Liverpool', 'Man City', 'Man United', 'Middlesbrough', 'Newcastle', 'Norwich', 'Portsmouth', 'QPR', 'Reading', 'Sheffield United', 'Southampton', 'Stoke', 'Sunderland', 'Swansea', 'Tottenham', 'Watford', 'West Brom', 'West Ham', 'Wigan', 'Wolves']\n",
      "['00/01', '01/02', '02/03', '03/04', '04/05', '05/06', '06/07', '07/08', '08/09', '09/10', '10/11', '11/12', '12/13', '13/14', '14/15', '15/16', '16/17', '17/18', '18/19', '19/20', '20/21']\n"
     ]
    }
   ],
   "source": [
    "seasons = []\n",
    "for i in all_files:\n",
    "    season = i\n",
    "    season = season[:-3]\n",
    "    season = season[0:2] + \"/\" + season[2:4]\n",
    "    seasons.append(season)\n",
    "\n",
    "# getting a list of team on EPL\n",
    "def get_club(df):\n",
    "    club = df[\"HomeTeam\"].tolist()\n",
    "    return(club)\n",
    "\n",
    "club_list = list(set(get_club(df_0021)))\n",
    "EPL_club = list(set(club_list))\n",
    "EPL_club = sorted(EPL_club)\n",
    "\n",
    "print(EPL_club)\n",
    "print(seasons)"
   ]
  },
  {
   "cell_type": "markdown",
   "metadata": {},
   "source": [
    " Code abouve simpley creates a lsit of seasons and clubs that are played on EPL at least one season. These list will be usuful when ploting a graph or creating new dataframe."
   ]
  },
  {
   "cell_type": "code",
   "execution_count": 34,
   "metadata": {},
   "outputs": [],
   "source": [
    "# creating dataframe to store values from analysis\n",
    "\n",
    "df_total_wins = pd.DataFrame(0,\n",
    "                            index = EPL_club,\n",
    "                            columns = seasons)\n",
    "\n",
    "\n",
    "def season_wins(data, season):\n",
    "    df = pd.read_csv(data)\n",
    "    for row in df.itertuples():\n",
    "        if(row.FTR == \"H\"):\n",
    "            df_total_wins.loc[row.HomeTeam, season: ] = df_total_wins.loc[row.HomeTeam, season:] + 1\n",
    "        elif(row.FTR == \"A\"):\n",
    "            df_total_wins.loc[row.AwayTeam, season:] = df_total_wins.loc[row.AwayTeam, season:] + 1\n",
    "\n",
    "for i in range(len(all_files)):\n",
    "        season_wins(all_files[i], seasons[i])\n",
    "df_total_wins = df_total_wins.sort_values(by=['20/21'], ascending=False)"
   ]
  },
  {
   "cell_type": "code",
   "execution_count": 35,
   "metadata": {},
   "outputs": [
    {
     "data": {
      "image/png": "[encoded data removed]",
      "text/plain": [
       "<Figure size 432x288 with 1 Axes>"
      ]
     },
     "metadata": {
      "needs_background": "light"
     },
     "output_type": "display_data"
    }
   ],
   "source": [
    "import matplotlib.pyplot as plot\n",
    "\n",
    "df_to_plot = df_total_wins[df_total_wins[\"20/21\"] > 100]\n",
    "df_to_plot = df_to_plot.transpose()\n",
    "df_to_plot.plot.line()\n",
    "plot.show()\n"
   ]
  },
  {
   "cell_type": "code",
   "execution_count": 36,
   "metadata": {},
   "outputs": [],
   "source": [
    "categories = ['Match', 'TotalW', 'HomeW', 'AwayW', 'Goals', 'ShotOnTarget', 'GoalsAllow', 'CornerKick','FoulsCommitted']\n",
    "df_result_0021 = pd.DataFrame(0,\n",
    "                            index = EPL_club,\n",
    "                            columns = categories)\n",
    "\n",
    "# # pull out all data\n",
    "for match in df_0021.itertuples():\n",
    "    # get number of match each club played from 2000 to now\n",
    "    df_result_0021.loc[match.HomeTeam, 'Match'] = df_result_0021.loc[match.HomeTeam, 'Match'] + 1\n",
    "    df_result_0021.loc[match.AwayTeam, 'Match'] = df_result_0021.loc[match.AwayTeam, 'Match'] + 1\n",
    "\n",
    "    # get total numver of goals\n",
    "    df_result_0021.loc[match.HomeTeam, 'Goals'] = df_result_0021.loc[match.HomeTeam, 'Goals'] + match.FTHG\n",
    "    df_result_0021.loc[match.AwayTeam, 'GoalsAllow'] = df_result_0021.loc[match.AwayTeam, 'GoalsAllow'] + match.FTHG\n",
    "    df_result_0021.loc[match.AwayTeam, 'Goals'] = df_result_0021.loc[match.AwayTeam, 'Goals'] + match.FTAG\n",
    "    df_result_0021.loc[match.HomeTeam, 'GoalsAllow'] = df_result_0021.loc[match.HomeTeam, 'GoalsAllow'] + match.FTAG\n",
    "\n",
    "    # get total number of shot on target\n",
    "    df_result_0021.loc[match.HomeTeam, 'ShotOnTarget'] = df_result_0021.loc[match.HomeTeam, 'ShotOnTarget'] + match.HST\n",
    "    df_result_0021.loc[match.AwayTeam, 'ShotOnTarget'] = df_result_0021.loc[match.AwayTeam, 'ShotOnTarget'] + match.AST\n",
    "\n",
    "    # get total number of corners\n",
    "    df_result_0021.loc[match.HomeTeam, 'CornerKick'] = df_result_0021.loc[match.HomeTeam, 'CornerKick'] + match.HC\n",
    "    df_result_0021.loc[match.AwayTeam, 'CornerKick'] = df_result_0021.loc[match.AwayTeam, 'CornerKick'] + match.AC\n",
    "\n",
    "    # total number of fouls committed\n",
    "    df_result_0021.loc[match.HomeTeam, 'FoulsCommitted'] = df_result_0021.loc[match.HomeTeam, 'FoulsCommitted'] + match.HF\n",
    "    df_result_0021.loc[match.AwayTeam, 'FoulsCommitted'] = df_result_0021.loc[match.AwayTeam, 'FoulsCommitted'] + match.AF\n",
    "\n",
    "    #total number of home win and away win\n",
    "    if match.FTR == 'H':\n",
    "        df_result_0021.loc[match.HomeTeam, 'HomeW'] = df_result_0021.loc[match.HomeTeam, 'HomeW'] + 1\n",
    "    elif match.FTR == 'A':\n",
    "        df_result_0021.loc[match.AwayTeam, 'AwayW'] = df_result_0021.loc[match.AwayTeam, 'AwayW'] + 1\n",
    "\n",
    "# total numver of win\n",
    "for club in EPL_club:\n",
    "    df_result_0021.loc[club, 'TotalW'] = df_result_0021.loc[club, 'HomeW'] + df_result_0021.loc[club, 'AwayW']\n",
    "\n"
   ]
  },
  {
   "cell_type": "code",
   "execution_count": 37,
   "metadata": {},
   "outputs": [],
   "source": [
    "analysis = ['Goal Percentage', 'Goal per Match', 'Goal Allow per Match', 'Fouls Committed per Match', 'Home Win ratio', 'Away Win ratio', 'Total Wins']\n",
    "\n",
    "df_analysis = pd.DataFrame(0,\n",
    "                          index=EPL_club,\n",
    "                          columns=analysis)"
   ]
  },
  {
   "cell_type": "code",
   "execution_count": 38,
   "metadata": {},
   "outputs": [],
   "source": [
    "from decimal import Decimal\n",
    "def convert_to_percentage(num):\n",
    "    num = str(num*100)\n",
    "    n = Decimal(num).quantize(Decimal(\"1.0\"))\n",
    "    n = str(n)\n",
    "    return n+\"%\"\n",
    "\n",
    "def roundup(num):\n",
    "    num = str(num)\n",
    "    return Decimal(num).quantize(Decimal(\"1.00\"))"
   ]
  },
  {
   "cell_type": "code",
   "execution_count": 39,
   "metadata": {},
   "outputs": [
    {
     "name": "stdout",
     "output_type": "stream",
     "text": [
      "                 Goal Percentage Goal per Match Goal Allow per Match  \\\n",
      "Man United                 26.4%           1.89                 0.91   \n",
      "Chelsea                    26.7%           1.85                 0.91   \n",
      "Arsenal                    27.1%           1.89                 1.04   \n",
      "Liverpool                  25.6%           1.79                 0.98   \n",
      "Man City                   27.3%           1.79                 1.09   \n",
      "Tottenham                  24.2%           1.57                 1.21   \n",
      "Everton                    24.0%           1.34                 1.24   \n",
      "Newcastle                  23.1%           1.24                 1.43   \n",
      "West Ham                   24.3%           1.22                 1.48   \n",
      "Aston Villa                23.2%           1.19                 1.40   \n",
      "Southampton                25.0%           1.24                 1.34   \n",
      "Fulham                     21.3%           1.13                 1.46   \n",
      "Blackburn                  21.7%           1.24                 1.42   \n",
      "Bolton                     19.4%           1.18                 1.47   \n",
      "Sunderland                 19.9%           0.98                 1.49   \n",
      "Leicester                  30.5%           1.35                 1.40   \n",
      "Stoke                      26.5%           1.05                 1.38   \n",
      "West Brom                  21.5%           1.03                 1.55   \n",
      "Middlesbrough              21.2%           1.09                 1.32   \n",
      "Crystal Palace             29.1%           1.12                 1.44   \n",
      "Wigan                      16.9%           1.04                 1.59   \n",
      "Charlton                   22.7%           1.13                 1.45   \n",
      "Swansea                    25.5%           1.15                 1.44   \n",
      "Portsmouth                 18.1%           1.10                 1.43   \n",
      "Birmingham                 21.7%           1.03                 1.35   \n",
      "Burnley                    27.0%           1.00                 1.51   \n",
      "Wolves                     22.7%           1.11                 1.60   \n",
      "Leeds                      25.9%           1.45                 1.47   \n",
      "Watford                    28.2%           1.06                 1.60   \n",
      "Bournemouth                32.3%           1.27                 1.74   \n",
      "Norwich                    21.9%           1.00                 1.78   \n",
      "Hull                       23.2%           0.95                 1.70   \n",
      "Reading                    25.2%           1.19                 1.63   \n",
      "Ipswich                    23.6%           1.29                 1.39   \n",
      "Brighton                   30.1%           0.98                 1.50   \n",
      "Sheffield United           21.6%           0.85                 1.32   \n",
      "QPR                        17.4%           1.01                 1.75   \n",
      "Derby                      19.5%           0.79                 1.85   \n",
      "Cardiff                    26.2%           0.87                 1.88   \n",
      "Huddersfield               21.8%           0.66                 1.76   \n",
      "Blackpool                  23.4%           1.45                 2.05   \n",
      "Coventry                   20.3%           0.95                 1.66   \n",
      "Bradford                   17.2%           0.79                 1.84   \n",
      "\n",
      "                 Fouls Committed per Match Home Win ratio Away Win ratio  \\\n",
      "Man United                           11.25          57.1%          42.9%   \n",
      "Chelsea                              11.12          56.6%          43.4%   \n",
      "Arsenal                              11.03          60.2%          39.8%   \n",
      "Liverpool                            10.71          58.6%          41.4%   \n",
      "Man City                             11.31          60.0%          40.0%   \n",
      "Tottenham                            11.25          62.6%          37.4%   \n",
      "Everton                              12.16          64.9%          35.1%   \n",
      "Newcastle                            11.84          66.2%          33.8%   \n",
      "West Ham                             11.52          63.8%          36.2%   \n",
      "Aston Villa                          12.50          59.8%          40.2%   \n",
      "Southampton                          11.98          60.7%          39.3%   \n",
      "Fulham                               11.69          74.8%          25.2%   \n",
      "Blackburn                            13.72          61.4%          38.6%   \n",
      "Bolton                               12.88          61.4%          38.6%   \n",
      "Sunderland                           12.29          63.8%          36.2%   \n",
      "Leicester                            11.42          58.7%          41.3%   \n",
      "Stoke                                11.76          69.8%          30.2%   \n",
      "West Brom                            11.47          65.5%          34.5%   \n",
      "Middlesbrough                        12.83          66.4%          33.6%   \n",
      "Crystal Palace                       11.89          54.1%          45.9%   \n",
      "Wigan                                12.14          56.5%          43.5%   \n",
      "Charlton                             12.34          63.5%          36.5%   \n",
      "Swansea                               9.91          62.2%          37.8%   \n",
      "Portsmouth                           12.96          68.4%          31.6%   \n",
      "Birmingham                           12.48          68.5%          31.5%   \n",
      "Burnley                              10.52          65.7%          34.3%   \n",
      "Wolves                               11.23          63.8%          36.2%   \n",
      "Leeds                                14.42          52.2%          47.8%   \n",
      "Watford                              12.71          62.3%          37.7%   \n",
      "Bournemouth                           9.34          60.7%          39.3%   \n",
      "Norwich                              10.97          74.5%          25.5%   \n",
      "Hull                                 12.25          70.7%          29.3%   \n",
      "Reading                              10.68          71.9%          28.1%   \n",
      "Ipswich                              11.32          58.6%          41.4%   \n",
      "Brighton                             11.21          62.1%          37.9%   \n",
      "Sheffield United                     11.65          70.8%          29.2%   \n",
      "QPR                                  10.70          68.2%          31.8%   \n",
      "Derby                                13.66          73.7%          26.3%   \n",
      "Cardiff                               9.55          64.7%          35.3%   \n",
      "Huddersfield                         10.74          66.7%          33.3%   \n",
      "Blackpool                            10.61          50.0%          50.0%   \n",
      "Coventry                             13.92          50.0%          50.0%   \n",
      "Bradford                             13.61          80.0%          20.0%   \n",
      "\n",
      "                  Total Wins  Match Played  \n",
      "Man United               480         776.0  \n",
      "Chelsea                  459         777.0  \n",
      "Arsenal                  437         777.0  \n",
      "Liverpool                425         777.0  \n",
      "Man City                 380         737.0  \n",
      "Tottenham                361         776.0  \n",
      "Everton                  302         776.0  \n",
      "Newcastle                240         700.0  \n",
      "West Ham                 210         663.0  \n",
      "Aston Villa              204         661.0  \n",
      "Southampton              168         511.0  \n",
      "Fulham                   159         547.0  \n",
      "Blackburn                140         418.0  \n",
      "Bolton                   132         418.0  \n",
      "Sunderland               127         532.0  \n",
      "Leicester                126         359.0  \n",
      "Stoke                    116         380.0  \n",
      "West Brom                113         473.0  \n",
      "Middlesbrough            107         380.0  \n",
      "Crystal Palace            98         321.0  \n",
      "Wigan                     85         304.0  \n",
      "Charlton                  85         266.0  \n",
      "Swansea                   82         266.0  \n",
      "Portsmouth                79         266.0  \n",
      "Birmingham                73         266.0  \n",
      "Burnley                   70         243.0  \n",
      "Wolves                    69         245.0  \n",
      "Leeds                     67         169.0  \n",
      "Watford                   61         228.0  \n",
      "Bournemouth               56         190.0  \n",
      "Norwich                   51         228.0  \n",
      "Hull                      41         190.0  \n",
      "Reading                   32         114.0  \n",
      "Ipswich                   29          76.0  \n",
      "Brighton                  29         131.0  \n",
      "Sheffield United          24          93.0  \n",
      "QPR                       22         114.0  \n",
      "Derby                     19         114.0  \n",
      "Cardiff                   17          76.0  \n",
      "Huddersfield              12          76.0  \n",
      "Blackpool                 10          38.0  \n",
      "Coventry                   8          38.0  \n",
      "Bradford                   5          38.0  \n"
     ]
    }
   ],
   "source": [
    "for club in df_result_0021.itertuples():\n",
    "    # goal percentage\n",
    "     df_analysis.loc[club.Index, \"Goal Percentage\"] = convert_to_percentage(club.Goals / club.ShotOnTarget)\n",
    "     # goal per game\n",
    "     df_analysis.loc[club.Index, \"Goal per Match\"] = roundup(club.Goals / club.Match)\n",
    "     # goal allow per match\n",
    "     df_analysis.loc[club.Index, \"Goal Allow per Match\"] = roundup(club.GoalsAllow / club.Match)\n",
    "     # Fouls comited per match\n",
    "     df_analysis.loc[club.Index, \"Fouls Committed per Match\"] = roundup(club.FoulsCommitted / club.Match)\n",
    "     # Win rtaio Home\n",
    "     df_analysis.loc[club.Index, \"Home Win ratio\"] = convert_to_percentage(club.HomeW / club.TotalW)\n",
    "     # win ratio Away\n",
    "     df_analysis.loc[club.Index, \"Away Win ratio\"] = convert_to_percentage(club.AwayW / club.TotalW)\n",
    "     # Total wins\n",
    "     df_analysis.loc[club.Index, \"Total Wins\"] = club.TotalW\n",
    "     # total match played\n",
    "     df_analysis.loc[club.Index, \"Match Played\"] = club.Match \n",
    "\n",
    "df_analysis = df_analysis.sort_values(by = ['Total Wins'], ascending=False)\n",
    "\n",
    "print(df_analysis)"
   ]
  }
 ],
 "metadata": {
  "kernelspec": {
   "display_name": "Python 3",
   "language": "python",
   "name": "python3"
  },
  "language_info": {
   "codemirror_mode": {
    "name": "ipython",
    "version": 3
   },
   "file_extension": ".py",
   "mimetype": "text/x-python",
   "name": "python",
   "nbconvert_exporter": "python",
   "pygments_lexer": "ipython3",
   "version": "3.7.2"
  }
 },
 "nbformat": 4,
 "nbformat_minor": 4
}
